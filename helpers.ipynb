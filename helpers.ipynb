{
 "cells": [
  {
   "cell_type": "code",
   "execution_count": 1,
   "metadata": {
    "collapsed": false,
    "jupyter": {
     "outputs_hidden": false
    },
    "pycharm": {
     "name": "#%%\n"
    }
   },
   "outputs": [],
   "source": [
    "import folium\n",
    "import geopandas as gpd\n",
    "import numpy as np\n",
    "import shapely.wkt\n",
    "from haversine import haversine\n",
    "from hda import Client\n",
    "from shapely.geometry import LineString, MultiPolygon, Polygon\n",
    "from shapely.geometry import Polygon\n",
    "from shapely.ops import split"
   ]
  },
  {
   "cell_type": "code",
   "execution_count": 4,
   "metadata": {
    "collapsed": false,
    "jupyter": {
     "outputs_hidden": false
    },
    "pycharm": {
     "name": "#%%\n"
    }
   },
   "outputs": [],
   "source": [
    "#Darmstadt test coordinates, results in result.csv\n",
    "polygon_darmstadt = shapely.wkt.loads('POLYGON((8.575744628906252 49.997146739553386,8.3807373046875 49.774169585277406,8.91632080078125 49.79013068868653,8.575744628906252 49.997146739553386))')"
   ]
  },
  {
   "cell_type": "code",
   "execution_count": 5,
   "metadata": {
    "collapsed": false,
    "jupyter": {
     "outputs_hidden": false
    },
    "pycharm": {
     "name": "#%%\n"
    }
   },
   "outputs": [],
   "source": [
    "polygon_spain = shapely.wkt.loads(\n",
    "    'POLYGON((4.616535050231732 35.87108657413534,-9.749833610246515 35.87108657413534, -9.749833610246515 43.88612553164362, 4.616535050231732 43.88612553164362, 4.616535050231732 35.87108657413534))')"
   ]
  },
  {
   "cell_type": "code",
   "execution_count": 2,
   "metadata": {
    "collapsed": false,
    "jupyter": {
     "outputs_hidden": false
    },
    "pycharm": {
     "name": "#%%\n"
    }
   },
   "outputs": [],
   "source": [
    "def generateRaster(polygon : shapely.geometry.Polygon, resolution:float) -> gpd.GeoDataFrame:\n",
    "    \"\"\"\n",
    "    Splits a rectangular polygon in smaller rectangular Polygons\n",
    "    :param polygon: rectangular polygon\n",
    "    :param resolution: size of smaller polygons in km\n",
    "    :return: GeoDataframe containing small polygons in the \"rectangle\" column\n",
    "    \"\"\"\n",
    "    d = {'geometry': [polygon]}\n",
    "    gdf = gpd.GeoDataFrame(d, crs=\"EPSG:4326\")\n",
    "\n",
    "    xmin, ymin, xmax, ymax = gdf.total_bounds\n",
    "\n",
    "    coordinates = shapely.geometry.mapping(polygon)[\"coordinates\"][0]\n",
    "    x = haversine(coordinates[0], coordinates[1])\n",
    "    y = haversine(coordinates[0], coordinates[3])\n",
    "    nx, ny = int(x / resolution), int(y / resolution)\n",
    "\n",
    "    length = (xmax - xmin) / nx\n",
    "    wide = (ymax - ymin) / ny\n",
    "\n",
    "    cols = list(np.arange(xmin, xmax + wide, wide))\n",
    "    rows = list(np.arange(ymin, ymax + length, length))\n",
    "\n",
    "    polygons = []\n",
    "    for x in cols[:-1]:\n",
    "        for y in rows[:-1]:\n",
    "            polygons.append(Polygon([(x, y), (x + wide, y), (x + wide, y + length), (x, y + length)]))\n",
    "\n",
    "    return gpd.GeoDataFrame({'rectangle': polygons})"
   ]
  },
  {
   "cell_type": "code",
   "execution_count": 3,
   "metadata": {
    "collapsed": false,
    "jupyter": {
     "outputs_hidden": false
    },
    "pycharm": {
     "name": "#%%\n"
    }
   },
   "outputs": [],
   "source": [
    "def polygon_to_bbox(polygon):\n",
    "    d = {'geometry': [polygon]}\n",
    "    gdf = gpd.GeoDataFrame(d, crs=\"EPSG:4326\")\n",
    "    xmin, ymin, xmax, ymax = gdf.total_bounds\n",
    "    return [xmin, ymin, xmax, ymax]"
   ]
  },
  {
   "cell_type": "code",
   "execution_count": null,
   "metadata": {
    "collapsed": false,
    "jupyter": {
     "outputs_hidden": false
    },
    "pycharm": {
     "name": "#%%\n"
    }
   },
   "outputs": [],
   "source": []
  }
 ],
 "metadata": {
  "kernelspec": {
   "display_name": "Python 3 (ipykernel)",
   "language": "python",
   "name": "python3"
  },
  "language_info": {
   "codemirror_mode": {
    "name": "ipython",
    "version": 3
   },
   "file_extension": ".py",
   "mimetype": "text/x-python",
   "name": "python",
   "nbconvert_exporter": "python",
   "pygments_lexer": "ipython3",
   "version": "3.9.10"
  }
 },
 "nbformat": 4,
 "nbformat_minor": 4
}
