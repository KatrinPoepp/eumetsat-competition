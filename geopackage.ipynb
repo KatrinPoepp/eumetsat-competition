{
 "cells": [
  {
   "cell_type": "code",
   "execution_count": 2,
   "metadata": {
    "collapsed": false,
    "jupyter": {
     "outputs_hidden": false
    },
    "pycharm": {
     "name": "#%%\n"
    }
   },
   "outputs": [
    {
     "name": "stderr",
     "output_type": "stream",
     "text": [
      "/opt/conda/lib/python3.9/site-packages/geopandas/_compat.py:112: UserWarning: The Shapely GEOS version (3.10.2-CAPI-1.16.0) is incompatible with the GEOS version PyGEOS was compiled with (3.10.1-CAPI-1.16.0). Conversions between both will be slow.\n",
      "  warnings.warn(\n"
     ]
    }
   ],
   "source": [
    "import zipfile\n",
    "\n",
    "import matplotlib.pyplot as plt\n",
    "\n",
    "from hda import Client\n",
    "\n",
    "import geopandas as gpd\n",
    "import pandas as pd\n",
    "#from geocube.api.core import make_geocube\n",
    "%run helpers.ipynb"
   ]
  },
  {
   "cell_type": "markdown",
   "metadata": {},
   "source": [
    "# 1. Downloading data"
   ]
  },
  {
   "cell_type": "code",
   "execution_count": 2,
   "metadata": {
    "collapsed": false,
    "jupyter": {
     "outputs_hidden": false
    },
    "pycharm": {
     "name": "#%%\n"
    }
   },
   "outputs": [],
   "source": [
    "data = {\n",
    "    \"datasetId\": \"EO:CLMS:DAT:CORINE\",\n",
    "    \"stringChoiceValues\": [\n",
    "        {\n",
    "            \"name\": \"product_type\",\n",
    "            \"value\": \"Corine Land Cover 2018\"\n",
    "        },\n",
    "        {\n",
    "            \"name\": \"format\",\n",
    "            \"value\": \"GeoPackage\"\n",
    "        }\n",
    "    ]\n",
    "}"
   ]
  },
  {
   "cell_type": "code",
   "execution_count": 3,
   "metadata": {
    "collapsed": false,
    "jupyter": {
     "outputs_hidden": false
    },
    "pycharm": {
     "name": "#%%\n"
    }
   },
   "outputs": [
    {
     "ename": "Exception",
     "evalue": "Missing/incomplete configuration file: /home/jovyan/.hdarc",
     "output_type": "error",
     "traceback": [
      "\u001b[0;31m---------------------------------------------------------------------------\u001b[0m",
      "\u001b[0;31mException\u001b[0m                                 Traceback (most recent call last)",
      "Input \u001b[0;32mIn [3]\u001b[0m, in \u001b[0;36m<cell line: 1>\u001b[0;34m()\u001b[0m\n\u001b[0;32m----> 1\u001b[0m c \u001b[38;5;241m=\u001b[39m \u001b[43mClient\u001b[49m\u001b[43m(\u001b[49m\u001b[43mdebug\u001b[49m\u001b[38;5;241;43m=\u001b[39;49m\u001b[38;5;28;43;01mFalse\u001b[39;49;00m\u001b[43m)\u001b[49m\n\u001b[1;32m      3\u001b[0m matches \u001b[38;5;241m=\u001b[39m c\u001b[38;5;241m.\u001b[39msearch(data)\n\u001b[1;32m      4\u001b[0m matches\u001b[38;5;241m.\u001b[39mdownload()\n",
      "File \u001b[0;32m/opt/conda/lib/python3.9/site-packages/hda/api.py:256\u001b[0m, in \u001b[0;36mClient.__init__\u001b[0;34m(self, url, user, password, token, quiet, debug, verify, timeout, retry_max, sleep_max, info_callback, warning_callback, error_callback, debug_callback, progress)\u001b[0m\n\u001b[1;32m    253\u001b[0m             verify \u001b[38;5;241m=\u001b[39m \u001b[38;5;28mint\u001b[39m(config\u001b[38;5;241m.\u001b[39mget(\u001b[38;5;124m\"\u001b[39m\u001b[38;5;124mverify\u001b[39m\u001b[38;5;124m\"\u001b[39m, \u001b[38;5;241m1\u001b[39m))\n\u001b[1;32m    255\u001b[0m \u001b[38;5;28;01mif\u001b[39;00m url \u001b[38;5;129;01mis\u001b[39;00m \u001b[38;5;28;01mNone\u001b[39;00m \u001b[38;5;129;01mor\u001b[39;00m (token \u001b[38;5;129;01mis\u001b[39;00m \u001b[38;5;28;01mNone\u001b[39;00m \u001b[38;5;129;01mand\u001b[39;00m user \u001b[38;5;129;01mis\u001b[39;00m \u001b[38;5;28;01mNone\u001b[39;00m):\n\u001b[0;32m--> 256\u001b[0m     \u001b[38;5;28;01mraise\u001b[39;00m \u001b[38;5;167;01mException\u001b[39;00m(\u001b[38;5;124m\"\u001b[39m\u001b[38;5;124mMissing/incomplete configuration file: \u001b[39m\u001b[38;5;132;01m%s\u001b[39;00m\u001b[38;5;124m\"\u001b[39m \u001b[38;5;241m%\u001b[39m (dotrc))\n\u001b[1;32m    258\u001b[0m \u001b[38;5;28mself\u001b[39m\u001b[38;5;241m.\u001b[39murl \u001b[38;5;241m=\u001b[39m url\n\u001b[1;32m    259\u001b[0m \u001b[38;5;28mself\u001b[39m\u001b[38;5;241m.\u001b[39mtoken \u001b[38;5;241m=\u001b[39m token\n",
      "\u001b[0;31mException\u001b[0m: Missing/incomplete configuration file: /home/jovyan/.hdarc"
     ]
    }
   ],
   "source": [
    "c = Client(debug=False)\n",
    "\n",
    "matches = c.search(data)\n",
    "matches.download()"
   ]
  },
  {
   "cell_type": "code",
   "execution_count": 3,
   "metadata": {
    "collapsed": false,
    "jupyter": {
     "outputs_hidden": false
    },
    "pycharm": {
     "name": "#%%\n"
    }
   },
   "outputs": [],
   "source": [
    "zip_ref = zipfile.ZipFile(\"u2018_clc2018_v2020_20u1_geoPackage.zip\")\n",
    "zip_ref.extractall(\"./data\")\n",
    "zip_ref.close() # close file"
   ]
  },
  {
   "cell_type": "markdown",
   "metadata": {},
   "source": [
    "# 2. Data Understanding"
   ]
  },
  {
   "cell_type": "markdown",
   "metadata": {},
   "source": [
    "## 2.1 Work with Geopandas"
   ]
  },
  {
   "cell_type": "markdown",
   "metadata": {},
   "source": [
    "As an alternative to the tiff format the CLC dataset is also available as in a geopackage format. \n",
    "The geopackage has the data not as a raster, but defined with polygons.\n",
    "This has the advantage of not being limited by the raster resolution, but is also slower when processing.\n",
    "An easy way to load the Data is with the GeoPandas library."
   ]
  },
  {
   "cell_type": "code",
   "execution_count": 4,
   "metadata": {
    "collapsed": false,
    "jupyter": {
     "outputs_hidden": false
    },
    "pycharm": {
     "name": "#%%\n"
    }
   },
   "outputs": [
    {
     "data": {
      "text/html": [
       "<div>\n",
       "<style scoped>\n",
       "    .dataframe tbody tr th:only-of-type {\n",
       "        vertical-align: middle;\n",
       "    }\n",
       "\n",
       "    .dataframe tbody tr th {\n",
       "        vertical-align: top;\n",
       "    }\n",
       "\n",
       "    .dataframe thead th {\n",
       "        text-align: right;\n",
       "    }\n",
       "</style>\n",
       "<table border=\"1\" class=\"dataframe\">\n",
       "  <thead>\n",
       "    <tr style=\"text-align: right;\">\n",
       "      <th></th>\n",
       "      <th>Code_18</th>\n",
       "      <th>Remark</th>\n",
       "      <th>Area_Ha</th>\n",
       "      <th>ID</th>\n",
       "      <th>geometry</th>\n",
       "    </tr>\n",
       "  </thead>\n",
       "  <tbody>\n",
       "    <tr>\n",
       "      <th>0</th>\n",
       "      <td>111</td>\n",
       "      <td>None</td>\n",
       "      <td>130.863654</td>\n",
       "      <td>EU_1</td>\n",
       "      <td>MULTIPOLYGON (((1917182.160 943608.860, 191714...</td>\n",
       "    </tr>\n",
       "    <tr>\n",
       "      <th>1</th>\n",
       "      <td>111</td>\n",
       "      <td>None</td>\n",
       "      <td>53.744524</td>\n",
       "      <td>EU_2</td>\n",
       "      <td>MULTIPOLYGON (((1953122.840 950507.440, 195311...</td>\n",
       "    </tr>\n",
       "    <tr>\n",
       "      <th>2</th>\n",
       "      <td>111</td>\n",
       "      <td>None</td>\n",
       "      <td>30.719104</td>\n",
       "      <td>EU_3</td>\n",
       "      <td>MULTIPOLYGON (((1956709.150 951094.550, 195669...</td>\n",
       "    </tr>\n",
       "    <tr>\n",
       "      <th>3</th>\n",
       "      <td>111</td>\n",
       "      <td>None</td>\n",
       "      <td>50.201782</td>\n",
       "      <td>EU_4</td>\n",
       "      <td>MULTIPOLYGON (((1805587.500 950821.540, 180555...</td>\n",
       "    </tr>\n",
       "    <tr>\n",
       "      <th>4</th>\n",
       "      <td>111</td>\n",
       "      <td>None</td>\n",
       "      <td>481.848803</td>\n",
       "      <td>EU_5</td>\n",
       "      <td>MULTIPOLYGON (((1792547.840 952643.380, 179251...</td>\n",
       "    </tr>\n",
       "  </tbody>\n",
       "</table>\n",
       "</div>"
      ],
      "text/plain": [
       "  Code_18 Remark     Area_Ha    ID  \\\n",
       "0     111   None  130.863654  EU_1   \n",
       "1     111   None   53.744524  EU_2   \n",
       "2     111   None   30.719104  EU_3   \n",
       "3     111   None   50.201782  EU_4   \n",
       "4     111   None  481.848803  EU_5   \n",
       "\n",
       "                                            geometry  \n",
       "0  MULTIPOLYGON (((1917182.160 943608.860, 191714...  \n",
       "1  MULTIPOLYGON (((1953122.840 950507.440, 195311...  \n",
       "2  MULTIPOLYGON (((1956709.150 951094.550, 195669...  \n",
       "3  MULTIPOLYGON (((1805587.500 950821.540, 180555...  \n",
       "4  MULTIPOLYGON (((1792547.840 952643.380, 179251...  "
      ]
     },
     "execution_count": 4,
     "metadata": {},
     "output_type": "execute_result"
    }
   ],
   "source": [
    "gdf = gpd.read_file(\"data/u2018_clc2018_v2020_20u1_geoPackage/DATA/U2018_CLC2018_V2020_20u1.gpkg\")\n",
    "gdf.head()"
   ]
  },
  {
   "cell_type": "markdown",
   "metadata": {},
   "source": [
    "GeoPandas stores the data in a GeoDataFrame, which is a subclass of a Pandas Dataframe, with additional methods for geospatial operations like coordinate transformations.\n",
    "Each line in the dataframe contains an area defined as a shapely multipolygon, with the label code."
   ]
  },
  {
   "cell_type": "code",
   "execution_count": 9,
   "metadata": {
    "collapsed": false,
    "jupyter": {
     "outputs_hidden": false
    },
    "pycharm": {
     "name": "#%%\n"
    }
   },
   "outputs": [],
   "source": [
    "ledgend = pd.read_csv(\"data/u2018_clc2018_v2020_20u1_geoPackage/Legend/CLC_legend.csv\", delimiter = \";\")\n",
    "ledgend[\"RGB\"] = ledgend[\"RGB\"].fillna(\"000-000-000\")\n",
    "ledgend[\"RGB\"] = ledgend[\"RGB\"].apply(lambda c : '#%02x%02x%02x'%tuple(int(x) for x in c.split(\"-\"))) # convert RGB to hex\n",
    "code_color = pd.Series(ledgend.RGB.values,index=ledgend.CLC_CODE).to_dict()\n",
    "gdf[\"color\"] = gdf[\"Code_18\"].apply(lambda code: code_color[int(code)])\n",
    "\n"
   ]
  },
  {
   "cell_type": "markdown",
   "metadata": {},
   "source": [
    "Plotting the complete geopackage is computationally intensive, but with GeoPandas we can easily cut a section from the data."
   ]
  },
  {
   "cell_type": "code",
   "execution_count": 10,
   "metadata": {
    "collapsed": false,
    "jupyter": {
     "outputs_hidden": false
    },
    "pycharm": {
     "name": "#%%\n"
    }
   },
   "outputs": [
    {
     "ename": "NameError",
     "evalue": "name 'spai' is not defined",
     "output_type": "error",
     "traceback": [
      "\u001b[0;31m---------------------------------------------------------------------------\u001b[0m",
      "\u001b[0;31mNameError\u001b[0m                                 Traceback (most recent call last)",
      "Input \u001b[0;32mIn [10]\u001b[0m, in \u001b[0;36m<cell line: 13>\u001b[0;34m()\u001b[0m\n\u001b[1;32m     10\u001b[0m spain \u001b[38;5;241m=\u001b[39m gpd\u001b[38;5;241m.\u001b[39mclip(gdf,spain_outline)\n\u001b[1;32m     12\u001b[0m \u001b[38;5;66;03m#load colors from the legend into the GeoDataframe\u001b[39;00m\n\u001b[0;32m---> 13\u001b[0m \u001b[43mspai\u001b[49m[\u001b[38;5;124m\"\u001b[39m\u001b[38;5;124mcolor\u001b[39m\u001b[38;5;124m\"\u001b[39m] \u001b[38;5;241m=\u001b[39m spain[\u001b[38;5;124m\"\u001b[39m\u001b[38;5;124mCode_18\u001b[39m\u001b[38;5;124m\"\u001b[39m]\u001b[38;5;241m.\u001b[39mapply(\u001b[38;5;28;01mlambda\u001b[39;00m code: code_color[\u001b[38;5;28mint\u001b[39m(code)])\n\u001b[1;32m     15\u001b[0m spain\u001b[38;5;241m.\u001b[39mplot( color\u001b[38;5;241m=\u001b[39mspain[\u001b[38;5;124m'\u001b[39m\u001b[38;5;124mcolor\u001b[39m\u001b[38;5;124m'\u001b[39m] )\n",
      "\u001b[0;31mNameError\u001b[0m: name 'spai' is not defined"
     ]
    }
   ],
   "source": [
    "#load a GeoDataframe containg outlines of countries\n",
    "world = gpd.read_file(gpd.datasets.get_path('naturalearth_lowres'))\n",
    "\n",
    "#polygon with the outline of spain\n",
    "spain_outline = world[world[\"name\"] == \"Spain\"]\n",
    " \n",
    "#convert the polygon to the same coordinate reference system(CRS) as the CLC data\n",
    "spain_outline = spain_outline.to_crs(gdf.crs)\n",
    "#Clip the CLC data with the outline of Spain\n",
    "spain = gpd.clip(gdf,spain_outline)\n",
    "\n",
    "#load colors from the legend into the GeoDataframe\n",
    "spai[\"color\"] = spain[\"Code_18\"].apply(lambda code: code_color[int(code)])\n",
    "\n",
    "spain.plot( color=spain['color'] )"
   ]
  },
  {
   "cell_type": "code",
   "execution_count": null,
   "metadata": {
    "collapsed": false,
    "jupyter": {
     "outputs_hidden": false
    },
    "pycharm": {
     "name": "#%%\n"
    }
   },
   "outputs": [],
   "source": [
    "import matplotlib.pyplot as plt\n",
    "plt.savefig(\"spain.svg\")\n"
   ]
  },
  {
   "cell_type": "code",
   "execution_count": null,
   "metadata": {
    "collapsed": false,
    "jupyter": {
     "outputs_hidden": false
    },
    "pycharm": {
     "name": "#%%\n"
    }
   },
   "outputs": [],
   "source": [
    "gdf.crs"
   ]
  },
  {
   "cell_type": "code",
   "execution_count": null,
   "metadata": {
    "collapsed": false,
    "jupyter": {
     "outputs_hidden": false
    },
    "pycharm": {
     "name": "#%%\n"
    }
   },
   "outputs": [],
   "source": []
  },
  {
   "cell_type": "code",
   "execution_count": null,
   "metadata": {},
   "outputs": [],
   "source": []
  },
  {
   "cell_type": "markdown",
   "metadata": {},
   "source": [
    "# 3. Data Preparation"
   ]
  },
  {
   "cell_type": "code",
   "execution_count": null,
   "metadata": {},
   "outputs": [],
   "source": []
  }
 ],
 "metadata": {
  "kernelspec": {
   "display_name": "Python 3 (ipykernel)",
   "language": "python",
   "name": "python3"
  },
  "language_info": {
   "codemirror_mode": {
    "name": "ipython",
    "version": 3
   },
   "file_extension": ".py",
   "mimetype": "text/x-python",
   "name": "python",
   "nbconvert_exporter": "python",
   "pygments_lexer": "ipython3",
   "version": "3.9.10"
  }
 },
 "nbformat": 4,
 "nbformat_minor": 4
}
