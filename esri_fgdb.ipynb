{
 "cells": [
  {
   "cell_type": "code",
   "execution_count": 6,
   "metadata": {
    "collapsed": false,
    "jupyter": {
     "outputs_hidden": false
    },
    "pycharm": {
     "name": "#%%\n"
    }
   },
   "outputs": [
    {
     "name": "stdout",
     "output_type": "stream",
     "text": [
      "Requirement already satisfied: haversine in /opt/conda/lib/python3.9/site-packages (from -r requirements.txt (line 3)) (2.6.0)\n",
      "Requirement already satisfied: geopandas in /opt/conda/lib/python3.9/site-packages (from -r requirements.txt (line 4)) (0.11.0)\n",
      "Requirement already satisfied: folium in /opt/conda/lib/python3.9/site-packages (from -r requirements.txt (line 5)) (0.12.1.post1)\n",
      "Requirement already satisfied: hda in /opt/conda/lib/python3.9/site-packages (from -r requirements.txt (line 6)) (0.2.2)\n",
      "Requirement already satisfied: rasterio in /opt/conda/lib/python3.9/site-packages (from -r requirements.txt (line 7)) (1.3.0)\n",
      "Requirement already satisfied: rtree in /opt/conda/lib/python3.9/site-packages (from -r requirements.txt (line 8)) (1.0.0)\n",
      "Collecting geocube\n",
      "  Downloading geocube-0.3.2-py3-none-any.whl (20 kB)\n",
      "Requirement already satisfied: pandas>=1.0.0 in /opt/conda/lib/python3.9/site-packages (from geopandas->-r requirements.txt (line 4)) (1.4.1)\n",
      "Requirement already satisfied: packaging in /opt/conda/lib/python3.9/site-packages (from geopandas->-r requirements.txt (line 4)) (21.3)\n",
      "Requirement already satisfied: shapely<2,>=1.7 in /opt/conda/lib/python3.9/site-packages (from geopandas->-r requirements.txt (line 4)) (1.8.2)\n",
      "Requirement already satisfied: fiona>=1.8 in /opt/conda/lib/python3.9/site-packages (from geopandas->-r requirements.txt (line 4)) (1.8.21)\n",
      "Requirement already satisfied: pyproj>=2.6.1.post1 in /opt/conda/lib/python3.9/site-packages (from geopandas->-r requirements.txt (line 4)) (3.3.1)\n",
      "Requirement already satisfied: requests in /opt/conda/lib/python3.9/site-packages (from folium->-r requirements.txt (line 5)) (2.27.1)\n",
      "Requirement already satisfied: numpy in /opt/conda/lib/python3.9/site-packages (from folium->-r requirements.txt (line 5)) (1.21.5)\n",
      "Requirement already satisfied: jinja2>=2.9 in /opt/conda/lib/python3.9/site-packages (from folium->-r requirements.txt (line 5)) (3.0.3)\n",
      "Requirement already satisfied: branca>=0.3.0 in /opt/conda/lib/python3.9/site-packages (from folium->-r requirements.txt (line 5)) (0.5.0)\n",
      "Requirement already satisfied: tqdm in /opt/conda/lib/python3.9/site-packages (from hda->-r requirements.txt (line 6)) (4.62.3)\n",
      "Requirement already satisfied: certifi in /opt/conda/lib/python3.9/site-packages (from rasterio->-r requirements.txt (line 7)) (2021.10.8)\n",
      "Requirement already satisfied: cligj>=0.5 in /opt/conda/lib/python3.9/site-packages (from rasterio->-r requirements.txt (line 7)) (0.7.2)\n",
      "Requirement already satisfied: affine in /opt/conda/lib/python3.9/site-packages (from rasterio->-r requirements.txt (line 7)) (2.3.1)\n",
      "Requirement already satisfied: snuggs>=1.4.1 in /opt/conda/lib/python3.9/site-packages (from rasterio->-r requirements.txt (line 7)) (1.4.7)\n",
      "Requirement already satisfied: attrs in /opt/conda/lib/python3.9/site-packages (from rasterio->-r requirements.txt (line 7)) (21.4.0)\n",
      "Requirement already satisfied: click-plugins in /opt/conda/lib/python3.9/site-packages (from rasterio->-r requirements.txt (line 7)) (1.1.1)\n",
      "Requirement already satisfied: click>=4.0 in /opt/conda/lib/python3.9/site-packages (from rasterio->-r requirements.txt (line 7)) (8.0.4)\n",
      "Requirement already satisfied: setuptools in /opt/conda/lib/python3.9/site-packages (from rasterio->-r requirements.txt (line 7)) (60.9.3)\n",
      "Collecting xarray>=0.17\n",
      "  Downloading xarray-2022.6.0-py3-none-any.whl (927 kB)\n",
      "\u001b[2K     \u001b[90m━━━━━━━━━━━━━━━━━━━━━━━━━━━━━━━━━━━━━━\u001b[0m \u001b[32m927.2/927.2 KB\u001b[0m \u001b[31m19.2 MB/s\u001b[0m eta \u001b[36m0:00:00\u001b[0ma \u001b[36m0:00:01\u001b[0m\n",
      "\u001b[?25hCollecting rioxarray>=0.4\n",
      "  Downloading rioxarray-0.11.1.tar.gz (49 kB)\n",
      "\u001b[2K     \u001b[90m━━━━━━━━━━━━━━━━━━━━━━━━━━━━━━━━━━━━━━━━\u001b[0m \u001b[32m49.7/49.7 KB\u001b[0m \u001b[31m2.4 MB/s\u001b[0m eta \u001b[36m0:00:00\u001b[0m\n",
      "\u001b[?25h  Installing build dependencies ... \u001b[?25ldone\n",
      "\u001b[?25h  Getting requirements to build wheel ... \u001b[?25ldone\n",
      "\u001b[?25h  Preparing metadata (pyproject.toml) ... \u001b[?25ldone\n",
      "\u001b[?25hRequirement already satisfied: scipy in /opt/conda/lib/python3.9/site-packages (from geocube->-r requirements.txt (line 9)) (1.8.0)\n",
      "Collecting odc-geo\n",
      "  Downloading odc_geo-0.2.1-py3-none-any.whl (102 kB)\n",
      "\u001b[2K     \u001b[90m━━━━━━━━━━━━━━━━━━━━━━━━━━━━━━━━━━━━━━\u001b[0m \u001b[32m102.8/102.8 KB\u001b[0m \u001b[31m13.7 MB/s\u001b[0m eta \u001b[36m0:00:00\u001b[0m\n",
      "\u001b[?25hCollecting appdirs\n",
      "  Downloading appdirs-1.4.4-py2.py3-none-any.whl (9.6 kB)\n",
      "Requirement already satisfied: six>=1.7 in /opt/conda/lib/python3.9/site-packages (from fiona>=1.8->geopandas->-r requirements.txt (line 4)) (1.16.0)\n",
      "Requirement already satisfied: munch in /opt/conda/lib/python3.9/site-packages (from fiona>=1.8->geopandas->-r requirements.txt (line 4)) (2.5.0)\n",
      "Requirement already satisfied: MarkupSafe>=2.0 in /opt/conda/lib/python3.9/site-packages (from jinja2>=2.9->folium->-r requirements.txt (line 5)) (2.1.1)\n",
      "Requirement already satisfied: python-dateutil>=2.8.1 in /opt/conda/lib/python3.9/site-packages (from pandas>=1.0.0->geopandas->-r requirements.txt (line 4)) (2.8.2)\n",
      "Requirement already satisfied: pytz>=2020.1 in /opt/conda/lib/python3.9/site-packages (from pandas>=1.0.0->geopandas->-r requirements.txt (line 4)) (2021.3)\n",
      "Requirement already satisfied: idna<4,>=2.5 in /opt/conda/lib/python3.9/site-packages (from requests->folium->-r requirements.txt (line 5)) (3.3)\n",
      "Requirement already satisfied: urllib3<1.27,>=1.21.1 in /opt/conda/lib/python3.9/site-packages (from requests->folium->-r requirements.txt (line 5)) (1.26.8)\n",
      "Requirement already satisfied: charset-normalizer~=2.0.0 in /opt/conda/lib/python3.9/site-packages (from requests->folium->-r requirements.txt (line 5)) (2.0.12)\n",
      "Requirement already satisfied: pyparsing>=2.1.6 in /opt/conda/lib/python3.9/site-packages (from snuggs>=1.4.1->rasterio->-r requirements.txt (line 7)) (3.0.7)\n",
      "Collecting cachetools\n",
      "  Downloading cachetools-5.2.0-py3-none-any.whl (9.3 kB)\n",
      "Building wheels for collected packages: rioxarray\n",
      "  Building wheel for rioxarray (pyproject.toml) ... \u001b[?25ldone\n",
      "\u001b[?25h  Created wheel for rioxarray: filename=rioxarray-0.11.1-py2.py3-none-any.whl size=50938 sha256=57180a64a43746e23fdffd520a597e262db5d7e968e6179a98d199fbeee81e7b\n",
      "  Stored in directory: /home/jovyan/.cache/pip/wheels/9f/62/ba/1ee5bdf78935aaa4a15929c89a39bb8cd999dae01362082893\n",
      "Successfully built rioxarray\n",
      "Installing collected packages: appdirs, cachetools, odc-geo, xarray, rioxarray, geocube\n",
      "Successfully installed appdirs-1.4.4 cachetools-5.2.0 geocube-0.3.2 odc-geo-0.2.1 rioxarray-0.11.1 xarray-2022.6.0\n",
      "Note: you may need to restart the kernel to use updated packages.\n"
     ]
    }
   ],
   "source": [
    "pip install -r requirements.txt "
   ]
  },
  {
   "cell_type": "code",
   "execution_count": 7,
   "metadata": {},
   "outputs": [],
   "source": [
    "import zipfile\n",
    "\n",
    "import matplotlib.pyplot as plt\n",
    "\n",
    "from hda import Client\n",
    "\n",
    "import geopandas as gpd\n",
    "#from geocube.api.core import make_geocube\n",
    "\n",
    "%run helpers.ipynb"
   ]
  },
  {
   "cell_type": "markdown",
   "metadata": {},
   "source": [
    "# 1. Get Data"
   ]
  },
  {
   "cell_type": "code",
   "execution_count": null,
   "metadata": {
    "collapsed": false,
    "jupyter": {
     "outputs_hidden": false
    },
    "pycharm": {
     "name": "#%%\n"
    }
   },
   "outputs": [],
   "source": [
    "data = {\n",
    "  \"datasetId\": \"EO:CLMS:DAT:CORINE\",\n",
    "  \"stringChoiceValues\": [\n",
    "    {\n",
    "      \"name\": \"product_type\",\n",
    "      \"value\": \"Corine Land Cover 2018\"\n",
    "    },\n",
    "    {\n",
    "      \"name\": \"format\",\n",
    "      \"value\": \"ESRI fgdb\"\n",
    "    }\n",
    "  ]\n",
    "}"
   ]
  },
  {
   "cell_type": "code",
   "execution_count": null,
   "metadata": {
    "collapsed": false,
    "jupyter": {
     "outputs_hidden": false
    },
    "pycharm": {
     "name": "#%%\n"
    }
   },
   "outputs": [],
   "source": [
    "c = Client(debug=False)\n",
    "\n",
    "matches = c.search(data)\n",
    "matches.download()"
   ]
  },
  {
   "cell_type": "code",
   "execution_count": null,
   "metadata": {
    "collapsed": false,
    "jupyter": {
     "outputs_hidden": false
    },
    "pycharm": {
     "name": "#%%\n"
    }
   },
   "outputs": [],
   "source": [
    "zip_ref = zipfile.ZipFile(\"u2018_clc2018_v2020_20u1_fgdb.zip\")\n",
    "zip_ref.extractall(\"./data\")\n",
    "zip_ref.close() # close file"
   ]
  },
  {
   "cell_type": "markdown",
   "metadata": {},
   "source": [
    "# 2. Set Path"
   ]
  },
  {
   "cell_type": "code",
   "execution_count": 8,
   "metadata": {
    "collapsed": false,
    "jupyter": {
     "outputs_hidden": false
    },
    "pycharm": {
     "name": "#%%\n"
    }
   },
   "outputs": [],
   "source": [
    "gdb_path = \"data/u2018_clc2018_v2020_20u1_fgdb/DATA/U2018_CLC2018_V2020_20u1.gdb\" "
   ]
  },
  {
   "cell_type": "markdown",
   "metadata": {
    "jupyter": {
     "outputs_hidden": false
    },
    "pycharm": {
     "name": "#%%\n"
    }
   },
   "source": [
    "## 2.1 Work"
   ]
  },
  {
   "cell_type": "code",
   "execution_count": 9,
   "metadata": {},
   "outputs": [],
   "source": [
    "dataset = gpd.read_file(\"data/u2018_clc2018_v2020_20u1_fgdb/DATA/U2018_CLC2018_V2020_20u1.gdb\")"
   ]
  },
  {
   "cell_type": "code",
   "execution_count": null,
   "metadata": {},
   "outputs": [],
   "source": []
  }
 ],
 "metadata": {
  "kernelspec": {
   "display_name": "Python 3 (ipykernel)",
   "language": "python",
   "name": "python3"
  },
  "language_info": {
   "codemirror_mode": {
    "name": "ipython",
    "version": 3
   },
   "file_extension": ".py",
   "mimetype": "text/x-python",
   "name": "python",
   "nbconvert_exporter": "python",
   "pygments_lexer": "ipython3",
   "version": "3.9.10"
  }
 },
 "nbformat": 4,
 "nbformat_minor": 4
}
